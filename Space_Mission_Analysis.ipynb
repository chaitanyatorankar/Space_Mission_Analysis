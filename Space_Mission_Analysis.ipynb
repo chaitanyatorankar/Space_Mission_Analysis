{
 "cells": [
  {
   "cell_type": "code",
   "execution_count": 1,
   "id": "5b8d0b0a-d697-41e0-8437-65e9b42ceaa8",
   "metadata": {},
   "outputs": [],
   "source": [
    "import pandas as pd\n",
    "import numpy as np\n",
    "import matplotlib.pyplot as plt\n",
    "import seaborn as sb"
   ]
  },
  {
   "cell_type": "code",
   "execution_count": 2,
   "id": "90785790-a86b-4ec9-a093-c9e782035a77",
   "metadata": {},
   "outputs": [],
   "source": [
    "df = pd.read_csv(\"../Dataset/Space_Corrected.csv\")"
   ]
  },
  {
   "cell_type": "code",
   "execution_count": 3,
   "id": "b2fd6638-dda0-43c2-9bab-0fbca315c773",
   "metadata": {},
   "outputs": [
    {
     "data": {
      "text/html": [
       "<div>\n",
       "<style scoped>\n",
       "    .dataframe tbody tr th:only-of-type {\n",
       "        vertical-align: middle;\n",
       "    }\n",
       "\n",
       "    .dataframe tbody tr th {\n",
       "        vertical-align: top;\n",
       "    }\n",
       "\n",
       "    .dataframe thead th {\n",
       "        text-align: right;\n",
       "    }\n",
       "</style>\n",
       "<table border=\"1\" class=\"dataframe\">\n",
       "  <thead>\n",
       "    <tr style=\"text-align: right;\">\n",
       "      <th></th>\n",
       "      <th>Unnamed: 0.1</th>\n",
       "      <th>Unnamed: 0</th>\n",
       "      <th>Company Name</th>\n",
       "      <th>Location</th>\n",
       "      <th>Datum</th>\n",
       "      <th>Detail</th>\n",
       "      <th>Status Rocket</th>\n",
       "      <th>Rocket</th>\n",
       "      <th>Status Mission</th>\n",
       "    </tr>\n",
       "  </thead>\n",
       "  <tbody>\n",
       "    <tr>\n",
       "      <th>0</th>\n",
       "      <td>0</td>\n",
       "      <td>0</td>\n",
       "      <td>SpaceX</td>\n",
       "      <td>LC-39A, Kennedy Space Center, Florida, USA</td>\n",
       "      <td>Fri Aug 07, 2020 05:12 UTC</td>\n",
       "      <td>Falcon 9 Block 5 | Starlink V1 L9 &amp; BlackSky</td>\n",
       "      <td>StatusActive</td>\n",
       "      <td>50.0</td>\n",
       "      <td>Success</td>\n",
       "    </tr>\n",
       "    <tr>\n",
       "      <th>1</th>\n",
       "      <td>1</td>\n",
       "      <td>1</td>\n",
       "      <td>CASC</td>\n",
       "      <td>Site 9401 (SLS-2), Jiuquan Satellite Launch Ce...</td>\n",
       "      <td>Thu Aug 06, 2020 04:01 UTC</td>\n",
       "      <td>Long March 2D | Gaofen-9 04 &amp; Q-SAT</td>\n",
       "      <td>StatusActive</td>\n",
       "      <td>29.75</td>\n",
       "      <td>Success</td>\n",
       "    </tr>\n",
       "    <tr>\n",
       "      <th>2</th>\n",
       "      <td>2</td>\n",
       "      <td>2</td>\n",
       "      <td>SpaceX</td>\n",
       "      <td>Pad A, Boca Chica, Texas, USA</td>\n",
       "      <td>Tue Aug 04, 2020 23:57 UTC</td>\n",
       "      <td>Starship Prototype | 150 Meter Hop</td>\n",
       "      <td>StatusActive</td>\n",
       "      <td>NaN</td>\n",
       "      <td>Success</td>\n",
       "    </tr>\n",
       "    <tr>\n",
       "      <th>3</th>\n",
       "      <td>3</td>\n",
       "      <td>3</td>\n",
       "      <td>Roscosmos</td>\n",
       "      <td>Site 200/39, Baikonur Cosmodrome, Kazakhstan</td>\n",
       "      <td>Thu Jul 30, 2020 21:25 UTC</td>\n",
       "      <td>Proton-M/Briz-M | Ekspress-80 &amp; Ekspress-103</td>\n",
       "      <td>StatusActive</td>\n",
       "      <td>65.0</td>\n",
       "      <td>Success</td>\n",
       "    </tr>\n",
       "    <tr>\n",
       "      <th>4</th>\n",
       "      <td>4</td>\n",
       "      <td>4</td>\n",
       "      <td>ULA</td>\n",
       "      <td>SLC-41, Cape Canaveral AFS, Florida, USA</td>\n",
       "      <td>Thu Jul 30, 2020 11:50 UTC</td>\n",
       "      <td>Atlas V 541 | Perseverance</td>\n",
       "      <td>StatusActive</td>\n",
       "      <td>145.0</td>\n",
       "      <td>Success</td>\n",
       "    </tr>\n",
       "    <tr>\n",
       "      <th>...</th>\n",
       "      <td>...</td>\n",
       "      <td>...</td>\n",
       "      <td>...</td>\n",
       "      <td>...</td>\n",
       "      <td>...</td>\n",
       "      <td>...</td>\n",
       "      <td>...</td>\n",
       "      <td>...</td>\n",
       "      <td>...</td>\n",
       "    </tr>\n",
       "    <tr>\n",
       "      <th>4319</th>\n",
       "      <td>4319</td>\n",
       "      <td>4319</td>\n",
       "      <td>US Navy</td>\n",
       "      <td>LC-18A, Cape Canaveral AFS, Florida, USA</td>\n",
       "      <td>Wed Feb 05, 1958 07:33 UTC</td>\n",
       "      <td>Vanguard | Vanguard TV3BU</td>\n",
       "      <td>StatusRetired</td>\n",
       "      <td>NaN</td>\n",
       "      <td>Failure</td>\n",
       "    </tr>\n",
       "    <tr>\n",
       "      <th>4320</th>\n",
       "      <td>4320</td>\n",
       "      <td>4320</td>\n",
       "      <td>AMBA</td>\n",
       "      <td>LC-26A, Cape Canaveral AFS, Florida, USA</td>\n",
       "      <td>Sat Feb 01, 1958 03:48 UTC</td>\n",
       "      <td>Juno I | Explorer 1</td>\n",
       "      <td>StatusRetired</td>\n",
       "      <td>NaN</td>\n",
       "      <td>Success</td>\n",
       "    </tr>\n",
       "    <tr>\n",
       "      <th>4321</th>\n",
       "      <td>4321</td>\n",
       "      <td>4321</td>\n",
       "      <td>US Navy</td>\n",
       "      <td>LC-18A, Cape Canaveral AFS, Florida, USA</td>\n",
       "      <td>Fri Dec 06, 1957 16:44 UTC</td>\n",
       "      <td>Vanguard | Vanguard TV3</td>\n",
       "      <td>StatusRetired</td>\n",
       "      <td>NaN</td>\n",
       "      <td>Failure</td>\n",
       "    </tr>\n",
       "    <tr>\n",
       "      <th>4322</th>\n",
       "      <td>4322</td>\n",
       "      <td>4322</td>\n",
       "      <td>RVSN USSR</td>\n",
       "      <td>Site 1/5, Baikonur Cosmodrome, Kazakhstan</td>\n",
       "      <td>Sun Nov 03, 1957 02:30 UTC</td>\n",
       "      <td>Sputnik 8K71PS | Sputnik-2</td>\n",
       "      <td>StatusRetired</td>\n",
       "      <td>NaN</td>\n",
       "      <td>Success</td>\n",
       "    </tr>\n",
       "    <tr>\n",
       "      <th>4323</th>\n",
       "      <td>4323</td>\n",
       "      <td>4323</td>\n",
       "      <td>RVSN USSR</td>\n",
       "      <td>Site 1/5, Baikonur Cosmodrome, Kazakhstan</td>\n",
       "      <td>Fri Oct 04, 1957 19:28 UTC</td>\n",
       "      <td>Sputnik 8K71PS | Sputnik-1</td>\n",
       "      <td>StatusRetired</td>\n",
       "      <td>NaN</td>\n",
       "      <td>Success</td>\n",
       "    </tr>\n",
       "  </tbody>\n",
       "</table>\n",
       "<p>4324 rows × 9 columns</p>\n",
       "</div>"
      ],
      "text/plain": [
       "      Unnamed: 0.1  Unnamed: 0 Company Name  \\\n",
       "0                0           0       SpaceX   \n",
       "1                1           1         CASC   \n",
       "2                2           2       SpaceX   \n",
       "3                3           3    Roscosmos   \n",
       "4                4           4          ULA   \n",
       "...            ...         ...          ...   \n",
       "4319          4319        4319      US Navy   \n",
       "4320          4320        4320         AMBA   \n",
       "4321          4321        4321      US Navy   \n",
       "4322          4322        4322    RVSN USSR   \n",
       "4323          4323        4323    RVSN USSR   \n",
       "\n",
       "                                               Location  \\\n",
       "0            LC-39A, Kennedy Space Center, Florida, USA   \n",
       "1     Site 9401 (SLS-2), Jiuquan Satellite Launch Ce...   \n",
       "2                         Pad A, Boca Chica, Texas, USA   \n",
       "3          Site 200/39, Baikonur Cosmodrome, Kazakhstan   \n",
       "4              SLC-41, Cape Canaveral AFS, Florida, USA   \n",
       "...                                                 ...   \n",
       "4319           LC-18A, Cape Canaveral AFS, Florida, USA   \n",
       "4320           LC-26A, Cape Canaveral AFS, Florida, USA   \n",
       "4321           LC-18A, Cape Canaveral AFS, Florida, USA   \n",
       "4322          Site 1/5, Baikonur Cosmodrome, Kazakhstan   \n",
       "4323          Site 1/5, Baikonur Cosmodrome, Kazakhstan   \n",
       "\n",
       "                           Datum  \\\n",
       "0     Fri Aug 07, 2020 05:12 UTC   \n",
       "1     Thu Aug 06, 2020 04:01 UTC   \n",
       "2     Tue Aug 04, 2020 23:57 UTC   \n",
       "3     Thu Jul 30, 2020 21:25 UTC   \n",
       "4     Thu Jul 30, 2020 11:50 UTC   \n",
       "...                          ...   \n",
       "4319  Wed Feb 05, 1958 07:33 UTC   \n",
       "4320  Sat Feb 01, 1958 03:48 UTC   \n",
       "4321  Fri Dec 06, 1957 16:44 UTC   \n",
       "4322  Sun Nov 03, 1957 02:30 UTC   \n",
       "4323  Fri Oct 04, 1957 19:28 UTC   \n",
       "\n",
       "                                            Detail  Status Rocket  Rocket  \\\n",
       "0     Falcon 9 Block 5 | Starlink V1 L9 & BlackSky   StatusActive   50.0    \n",
       "1              Long March 2D | Gaofen-9 04 & Q-SAT   StatusActive  29.75    \n",
       "2               Starship Prototype | 150 Meter Hop   StatusActive     NaN   \n",
       "3     Proton-M/Briz-M | Ekspress-80 & Ekspress-103   StatusActive   65.0    \n",
       "4                       Atlas V 541 | Perseverance   StatusActive  145.0    \n",
       "...                                            ...            ...     ...   \n",
       "4319                     Vanguard | Vanguard TV3BU  StatusRetired     NaN   \n",
       "4320                           Juno I | Explorer 1  StatusRetired     NaN   \n",
       "4321                       Vanguard | Vanguard TV3  StatusRetired     NaN   \n",
       "4322                    Sputnik 8K71PS | Sputnik-2  StatusRetired     NaN   \n",
       "4323                    Sputnik 8K71PS | Sputnik-1  StatusRetired     NaN   \n",
       "\n",
       "     Status Mission  \n",
       "0           Success  \n",
       "1           Success  \n",
       "2           Success  \n",
       "3           Success  \n",
       "4           Success  \n",
       "...             ...  \n",
       "4319        Failure  \n",
       "4320        Success  \n",
       "4321        Failure  \n",
       "4322        Success  \n",
       "4323        Success  \n",
       "\n",
       "[4324 rows x 9 columns]"
      ]
     },
     "execution_count": 3,
     "metadata": {},
     "output_type": "execute_result"
    }
   ],
   "source": [
    "df"
   ]
  },
  {
   "cell_type": "markdown",
   "id": "01885a44-0298-41c9-b31b-9e33fd1f6305",
   "metadata": {},
   "source": [
    "1.Data Preparation"
   ]
  },
  {
   "cell_type": "code",
   "execution_count": 4,
   "id": "f4857a71-5b9f-43a4-975a-5faaa2a95977",
   "metadata": {},
   "outputs": [
    {
     "data": {
      "text/plain": [
       "Unnamed: 0.1         0\n",
       "Unnamed: 0           0\n",
       "Company Name         0\n",
       "Location             0\n",
       "Datum                0\n",
       "Detail               0\n",
       "Status Rocket        0\n",
       " Rocket           3360\n",
       "Status Mission       0\n",
       "dtype: int64"
      ]
     },
     "execution_count": 4,
     "metadata": {},
     "output_type": "execute_result"
    }
   ],
   "source": [
    "df.isnull().sum()"
   ]
  },
  {
   "cell_type": "code",
   "execution_count": 5,
   "id": "c200d110-49c9-4271-b113-5edc4c68bdb8",
   "metadata": {},
   "outputs": [],
   "source": [
    "df = df.rename( columns = {'Detail' : 'Rocket'})"
   ]
  },
  {
   "cell_type": "code",
   "execution_count": 6,
   "id": "e5eefcab-13da-4f2e-b3e9-6702a40d9eca",
   "metadata": {},
   "outputs": [],
   "source": [
    "df = df.rename( columns = {' Rocket' : 'Price'})"
   ]
  },
  {
   "cell_type": "code",
   "execution_count": 7,
   "id": "ef772632-a3db-4d55-82ca-e07b82b5ade4",
   "metadata": {},
   "outputs": [],
   "source": [
    "df = df.rename( columns = {'Status Rocket' : 'Status_Rocket'})"
   ]
  },
  {
   "cell_type": "code",
   "execution_count": 8,
   "id": "1839ab86-cea0-4985-8c3d-ebaec72aaeb2",
   "metadata": {},
   "outputs": [],
   "source": [
    "df = df.rename( columns = {'Company Name' : 'Company_Name'})"
   ]
  },
  {
   "cell_type": "code",
   "execution_count": 9,
   "id": "7e666e9b-bfb9-4b77-852a-d98f26919f22",
   "metadata": {},
   "outputs": [],
   "source": [
    "df = df.rename( columns = {'Status Mission' : 'Status_Mission'})"
   ]
  },
  {
   "cell_type": "code",
   "execution_count": 10,
   "id": "bd1581a4-1edb-455f-a1cd-f1b51a5d312f",
   "metadata": {},
   "outputs": [],
   "source": [
    "df = df.drop('Unnamed: 0.1',axis=1)"
   ]
  },
  {
   "cell_type": "code",
   "execution_count": 11,
   "id": "2c208d89-38f4-45ba-90b4-07ca19908fc9",
   "metadata": {},
   "outputs": [],
   "source": [
    "df.Datum = df.Datum.astype('datetime64[ns, UTC]')"
   ]
  },
  {
   "cell_type": "code",
   "execution_count": 12,
   "id": "7772a5ce-2433-44f4-a8e5-bcc483e04ba5",
   "metadata": {},
   "outputs": [],
   "source": [
    "df['Year'] = df['Datum'].dt.year\n",
    "df['Month'] = df['Datum'].dt.month"
   ]
  },
  {
   "cell_type": "code",
   "execution_count": 13,
   "id": "d70d2da3-799b-40b7-b3d3-eb7873d8421b",
   "metadata": {},
   "outputs": [
    {
     "data": {
      "text/html": [
       "<div>\n",
       "<style scoped>\n",
       "    .dataframe tbody tr th:only-of-type {\n",
       "        vertical-align: middle;\n",
       "    }\n",
       "\n",
       "    .dataframe tbody tr th {\n",
       "        vertical-align: top;\n",
       "    }\n",
       "\n",
       "    .dataframe thead th {\n",
       "        text-align: right;\n",
       "    }\n",
       "</style>\n",
       "<table border=\"1\" class=\"dataframe\">\n",
       "  <thead>\n",
       "    <tr style=\"text-align: right;\">\n",
       "      <th></th>\n",
       "      <th>Unnamed: 0</th>\n",
       "      <th>Company_Name</th>\n",
       "      <th>Location</th>\n",
       "      <th>Datum</th>\n",
       "      <th>Rocket</th>\n",
       "      <th>Status_Rocket</th>\n",
       "      <th>Price</th>\n",
       "      <th>Status_Mission</th>\n",
       "      <th>Year</th>\n",
       "      <th>Month</th>\n",
       "    </tr>\n",
       "  </thead>\n",
       "  <tbody>\n",
       "    <tr>\n",
       "      <th>0</th>\n",
       "      <td>0</td>\n",
       "      <td>SpaceX</td>\n",
       "      <td>LC-39A, Kennedy Space Center, Florida, USA</td>\n",
       "      <td>2020-08-07 05:12:00+00:00</td>\n",
       "      <td>Falcon 9 Block 5 | Starlink V1 L9 &amp; BlackSky</td>\n",
       "      <td>StatusActive</td>\n",
       "      <td>50.0</td>\n",
       "      <td>Success</td>\n",
       "      <td>2020</td>\n",
       "      <td>8</td>\n",
       "    </tr>\n",
       "    <tr>\n",
       "      <th>1</th>\n",
       "      <td>1</td>\n",
       "      <td>CASC</td>\n",
       "      <td>Site 9401 (SLS-2), Jiuquan Satellite Launch Ce...</td>\n",
       "      <td>2020-08-06 04:01:00+00:00</td>\n",
       "      <td>Long March 2D | Gaofen-9 04 &amp; Q-SAT</td>\n",
       "      <td>StatusActive</td>\n",
       "      <td>29.75</td>\n",
       "      <td>Success</td>\n",
       "      <td>2020</td>\n",
       "      <td>8</td>\n",
       "    </tr>\n",
       "    <tr>\n",
       "      <th>2</th>\n",
       "      <td>2</td>\n",
       "      <td>SpaceX</td>\n",
       "      <td>Pad A, Boca Chica, Texas, USA</td>\n",
       "      <td>2020-08-04 23:57:00+00:00</td>\n",
       "      <td>Starship Prototype | 150 Meter Hop</td>\n",
       "      <td>StatusActive</td>\n",
       "      <td>NaN</td>\n",
       "      <td>Success</td>\n",
       "      <td>2020</td>\n",
       "      <td>8</td>\n",
       "    </tr>\n",
       "    <tr>\n",
       "      <th>3</th>\n",
       "      <td>3</td>\n",
       "      <td>Roscosmos</td>\n",
       "      <td>Site 200/39, Baikonur Cosmodrome, Kazakhstan</td>\n",
       "      <td>2020-07-30 21:25:00+00:00</td>\n",
       "      <td>Proton-M/Briz-M | Ekspress-80 &amp; Ekspress-103</td>\n",
       "      <td>StatusActive</td>\n",
       "      <td>65.0</td>\n",
       "      <td>Success</td>\n",
       "      <td>2020</td>\n",
       "      <td>7</td>\n",
       "    </tr>\n",
       "    <tr>\n",
       "      <th>4</th>\n",
       "      <td>4</td>\n",
       "      <td>ULA</td>\n",
       "      <td>SLC-41, Cape Canaveral AFS, Florida, USA</td>\n",
       "      <td>2020-07-30 11:50:00+00:00</td>\n",
       "      <td>Atlas V 541 | Perseverance</td>\n",
       "      <td>StatusActive</td>\n",
       "      <td>145.0</td>\n",
       "      <td>Success</td>\n",
       "      <td>2020</td>\n",
       "      <td>7</td>\n",
       "    </tr>\n",
       "    <tr>\n",
       "      <th>...</th>\n",
       "      <td>...</td>\n",
       "      <td>...</td>\n",
       "      <td>...</td>\n",
       "      <td>...</td>\n",
       "      <td>...</td>\n",
       "      <td>...</td>\n",
       "      <td>...</td>\n",
       "      <td>...</td>\n",
       "      <td>...</td>\n",
       "      <td>...</td>\n",
       "    </tr>\n",
       "    <tr>\n",
       "      <th>4319</th>\n",
       "      <td>4319</td>\n",
       "      <td>US Navy</td>\n",
       "      <td>LC-18A, Cape Canaveral AFS, Florida, USA</td>\n",
       "      <td>1958-02-05 07:33:00+00:00</td>\n",
       "      <td>Vanguard | Vanguard TV3BU</td>\n",
       "      <td>StatusRetired</td>\n",
       "      <td>NaN</td>\n",
       "      <td>Failure</td>\n",
       "      <td>1958</td>\n",
       "      <td>2</td>\n",
       "    </tr>\n",
       "    <tr>\n",
       "      <th>4320</th>\n",
       "      <td>4320</td>\n",
       "      <td>AMBA</td>\n",
       "      <td>LC-26A, Cape Canaveral AFS, Florida, USA</td>\n",
       "      <td>1958-02-01 03:48:00+00:00</td>\n",
       "      <td>Juno I | Explorer 1</td>\n",
       "      <td>StatusRetired</td>\n",
       "      <td>NaN</td>\n",
       "      <td>Success</td>\n",
       "      <td>1958</td>\n",
       "      <td>2</td>\n",
       "    </tr>\n",
       "    <tr>\n",
       "      <th>4321</th>\n",
       "      <td>4321</td>\n",
       "      <td>US Navy</td>\n",
       "      <td>LC-18A, Cape Canaveral AFS, Florida, USA</td>\n",
       "      <td>1957-12-06 16:44:00+00:00</td>\n",
       "      <td>Vanguard | Vanguard TV3</td>\n",
       "      <td>StatusRetired</td>\n",
       "      <td>NaN</td>\n",
       "      <td>Failure</td>\n",
       "      <td>1957</td>\n",
       "      <td>12</td>\n",
       "    </tr>\n",
       "    <tr>\n",
       "      <th>4322</th>\n",
       "      <td>4322</td>\n",
       "      <td>RVSN USSR</td>\n",
       "      <td>Site 1/5, Baikonur Cosmodrome, Kazakhstan</td>\n",
       "      <td>1957-11-03 02:30:00+00:00</td>\n",
       "      <td>Sputnik 8K71PS | Sputnik-2</td>\n",
       "      <td>StatusRetired</td>\n",
       "      <td>NaN</td>\n",
       "      <td>Success</td>\n",
       "      <td>1957</td>\n",
       "      <td>11</td>\n",
       "    </tr>\n",
       "    <tr>\n",
       "      <th>4323</th>\n",
       "      <td>4323</td>\n",
       "      <td>RVSN USSR</td>\n",
       "      <td>Site 1/5, Baikonur Cosmodrome, Kazakhstan</td>\n",
       "      <td>1957-10-04 19:28:00+00:00</td>\n",
       "      <td>Sputnik 8K71PS | Sputnik-1</td>\n",
       "      <td>StatusRetired</td>\n",
       "      <td>NaN</td>\n",
       "      <td>Success</td>\n",
       "      <td>1957</td>\n",
       "      <td>10</td>\n",
       "    </tr>\n",
       "  </tbody>\n",
       "</table>\n",
       "<p>4324 rows × 10 columns</p>\n",
       "</div>"
      ],
      "text/plain": [
       "      Unnamed: 0 Company_Name  \\\n",
       "0              0       SpaceX   \n",
       "1              1         CASC   \n",
       "2              2       SpaceX   \n",
       "3              3    Roscosmos   \n",
       "4              4          ULA   \n",
       "...          ...          ...   \n",
       "4319        4319      US Navy   \n",
       "4320        4320         AMBA   \n",
       "4321        4321      US Navy   \n",
       "4322        4322    RVSN USSR   \n",
       "4323        4323    RVSN USSR   \n",
       "\n",
       "                                               Location  \\\n",
       "0            LC-39A, Kennedy Space Center, Florida, USA   \n",
       "1     Site 9401 (SLS-2), Jiuquan Satellite Launch Ce...   \n",
       "2                         Pad A, Boca Chica, Texas, USA   \n",
       "3          Site 200/39, Baikonur Cosmodrome, Kazakhstan   \n",
       "4              SLC-41, Cape Canaveral AFS, Florida, USA   \n",
       "...                                                 ...   \n",
       "4319           LC-18A, Cape Canaveral AFS, Florida, USA   \n",
       "4320           LC-26A, Cape Canaveral AFS, Florida, USA   \n",
       "4321           LC-18A, Cape Canaveral AFS, Florida, USA   \n",
       "4322          Site 1/5, Baikonur Cosmodrome, Kazakhstan   \n",
       "4323          Site 1/5, Baikonur Cosmodrome, Kazakhstan   \n",
       "\n",
       "                         Datum                                        Rocket  \\\n",
       "0    2020-08-07 05:12:00+00:00  Falcon 9 Block 5 | Starlink V1 L9 & BlackSky   \n",
       "1    2020-08-06 04:01:00+00:00           Long March 2D | Gaofen-9 04 & Q-SAT   \n",
       "2    2020-08-04 23:57:00+00:00            Starship Prototype | 150 Meter Hop   \n",
       "3    2020-07-30 21:25:00+00:00  Proton-M/Briz-M | Ekspress-80 & Ekspress-103   \n",
       "4    2020-07-30 11:50:00+00:00                    Atlas V 541 | Perseverance   \n",
       "...                        ...                                           ...   \n",
       "4319 1958-02-05 07:33:00+00:00                     Vanguard | Vanguard TV3BU   \n",
       "4320 1958-02-01 03:48:00+00:00                           Juno I | Explorer 1   \n",
       "4321 1957-12-06 16:44:00+00:00                       Vanguard | Vanguard TV3   \n",
       "4322 1957-11-03 02:30:00+00:00                    Sputnik 8K71PS | Sputnik-2   \n",
       "4323 1957-10-04 19:28:00+00:00                    Sputnik 8K71PS | Sputnik-1   \n",
       "\n",
       "      Status_Rocket   Price Status_Mission  Year  Month  \n",
       "0      StatusActive   50.0         Success  2020      8  \n",
       "1      StatusActive  29.75         Success  2020      8  \n",
       "2      StatusActive     NaN        Success  2020      8  \n",
       "3      StatusActive   65.0         Success  2020      7  \n",
       "4      StatusActive  145.0         Success  2020      7  \n",
       "...             ...     ...            ...   ...    ...  \n",
       "4319  StatusRetired     NaN        Failure  1958      2  \n",
       "4320  StatusRetired     NaN        Success  1958      2  \n",
       "4321  StatusRetired     NaN        Failure  1957     12  \n",
       "4322  StatusRetired     NaN        Success  1957     11  \n",
       "4323  StatusRetired     NaN        Success  1957     10  \n",
       "\n",
       "[4324 rows x 10 columns]"
      ]
     },
     "execution_count": 13,
     "metadata": {},
     "output_type": "execute_result"
    }
   ],
   "source": [
    "df"
   ]
  },
  {
   "cell_type": "code",
   "execution_count": 14,
   "id": "f03546c7-f356-40c6-a24e-f630df555278",
   "metadata": {},
   "outputs": [],
   "source": [
    "df.Price  = df.Price.fillna(0)"
   ]
  },
  {
   "cell_type": "code",
   "execution_count": 15,
   "id": "0dafe259-ab31-4884-b605-0d05fe557cd3",
   "metadata": {},
   "outputs": [
    {
     "data": {
      "text/plain": [
       "Unnamed: 0        0\n",
       "Company_Name      0\n",
       "Location          0\n",
       "Datum             0\n",
       "Rocket            0\n",
       "Status_Rocket     0\n",
       "Price             0\n",
       "Status_Mission    0\n",
       "Year              0\n",
       "Month             0\n",
       "dtype: int64"
      ]
     },
     "execution_count": 15,
     "metadata": {},
     "output_type": "execute_result"
    }
   ],
   "source": [
    "df.isnull().sum()"
   ]
  },
  {
   "cell_type": "code",
   "execution_count": 16,
   "id": "6ab9475b-310e-4ae6-8b88-577fce5973c6",
   "metadata": {},
   "outputs": [
    {
     "data": {
      "text/plain": [
       "Unnamed: 0                      int64\n",
       "Company_Name                   object\n",
       "Location                       object\n",
       "Datum             datetime64[ns, UTC]\n",
       "Rocket                         object\n",
       "Status_Rocket                  object\n",
       "Price                          object\n",
       "Status_Mission                 object\n",
       "Year                            int32\n",
       "Month                           int32\n",
       "dtype: object"
      ]
     },
     "execution_count": 16,
     "metadata": {},
     "output_type": "execute_result"
    }
   ],
   "source": [
    "df.dtypes"
   ]
  },
  {
   "cell_type": "code",
   "execution_count": 17,
   "id": "dcf23065-9f8d-4c8e-baae-b702cb5800db",
   "metadata": {},
   "outputs": [
    {
     "data": {
      "text/plain": [
       "array(['50.0 ', '29.75 ', 0, '65.0 ', '145.0 ', '64.68 ', '48.5 ',\n",
       "       '90.0 ', '46.0 ', '28.3 ', '29.15 ', '7.5 ', '30.8 ', '5.3 ',\n",
       "       '12.0 ', '112.5 ', '120.0 ', '153.0 ', '200.0 ', '85.0 ', '115.0 ',\n",
       "       '41.8 ', '21.0 ', '31.0 ', '40.0 ', '164.0 ', '62.0 ', '37.0 ',\n",
       "       '350.0 ', '39.0 ', '47.0 ', '35.0 ', '69.7 ', '109.0 ', '45.0 ',\n",
       "       '123.0 ', '130.0 ', '25.0 ', '56.5 ', '15.0 ', '29.0 ', '80.0 ',\n",
       "       '140.0 ', '55.0 ', '59.5 ', '450.0 ', '7.0 ', '20.14 ', '133.0 ',\n",
       "       '190.0 ', '135.0 ', '20.0 ', '136.6 ', '5,000.0 ', '1,160.0 ',\n",
       "       '59.0 ', '63.23 '], dtype=object)"
      ]
     },
     "execution_count": 17,
     "metadata": {},
     "output_type": "execute_result"
    }
   ],
   "source": [
    "df.Price.unique()"
   ]
  },
  {
   "cell_type": "code",
   "execution_count": 18,
   "id": "20795bb0-4b11-4bdf-9422-75c983b1e04e",
   "metadata": {},
   "outputs": [
    {
     "data": {
      "text/plain": [
       "<DatetimeArray>\n",
       "['2020-08-07 05:12:00+00:00', '2020-08-06 04:01:00+00:00',\n",
       " '2020-08-04 23:57:00+00:00', '2020-07-30 21:25:00+00:00',\n",
       " '2020-07-30 11:50:00+00:00', '2020-07-25 03:13:00+00:00',\n",
       " '2020-07-23 14:26:00+00:00', '2020-07-23 04:41:00+00:00',\n",
       " '2020-07-20 21:30:00+00:00', '2020-07-19 21:58:00+00:00',\n",
       " ...\n",
       " '1958-04-28 02:53:00+00:00', '1958-04-27 09:01:00+00:00',\n",
       " '1958-03-26 17:38:00+00:00', '1958-03-17 12:15:00+00:00',\n",
       " '1958-03-05 18:27:00+00:00', '1958-02-05 07:33:00+00:00',\n",
       " '1958-02-01 03:48:00+00:00', '1957-12-06 16:44:00+00:00',\n",
       " '1957-11-03 02:30:00+00:00', '1957-10-04 19:28:00+00:00']\n",
       "Length: 4319, dtype: datetime64[ns, UTC]"
      ]
     },
     "execution_count": 18,
     "metadata": {},
     "output_type": "execute_result"
    }
   ],
   "source": [
    "df.Datum.unique()"
   ]
  },
  {
   "cell_type": "code",
   "execution_count": 19,
   "id": "d1f1705e-a4f9-4456-8893-843405fd7684",
   "metadata": {},
   "outputs": [],
   "source": [
    "df.Price = df.Price.replace('[,]','',regex=True).astype('float64')"
   ]
  },
  {
   "cell_type": "code",
   "execution_count": 20,
   "id": "be68123d-b895-43e5-950a-8610c3bb584b",
   "metadata": {},
   "outputs": [
    {
     "data": {
      "text/plain": [
       "Unnamed: 0                      int64\n",
       "Company_Name                   object\n",
       "Location                       object\n",
       "Datum             datetime64[ns, UTC]\n",
       "Rocket                         object\n",
       "Status_Rocket                  object\n",
       "Price                         float64\n",
       "Status_Mission                 object\n",
       "Year                            int32\n",
       "Month                           int32\n",
       "dtype: object"
      ]
     },
     "execution_count": 20,
     "metadata": {},
     "output_type": "execute_result"
    }
   ],
   "source": [
    "df.dtypes"
   ]
  },
  {
   "cell_type": "markdown",
   "id": "82c317d1-86f0-4b81-8b00-e27347e159e1",
   "metadata": {},
   "source": [
    "2.Exploratory Data Analysis(EDA)"
   ]
  },
  {
   "cell_type": "code",
   "execution_count": 21,
   "id": "7db824bd-7d52-44b3-8247-4f092118e961",
   "metadata": {},
   "outputs": [
    {
     "data": {
      "text/html": [
       "<div>\n",
       "<style scoped>\n",
       "    .dataframe tbody tr th:only-of-type {\n",
       "        vertical-align: middle;\n",
       "    }\n",
       "\n",
       "    .dataframe tbody tr th {\n",
       "        vertical-align: top;\n",
       "    }\n",
       "\n",
       "    .dataframe thead th {\n",
       "        text-align: right;\n",
       "    }\n",
       "</style>\n",
       "<table border=\"1\" class=\"dataframe\">\n",
       "  <thead>\n",
       "    <tr style=\"text-align: right;\">\n",
       "      <th></th>\n",
       "      <th>Unnamed: 0</th>\n",
       "      <th>Price</th>\n",
       "      <th>Year</th>\n",
       "      <th>Month</th>\n",
       "    </tr>\n",
       "  </thead>\n",
       "  <tbody>\n",
       "    <tr>\n",
       "      <th>count</th>\n",
       "      <td>4324.000000</td>\n",
       "      <td>4324.000000</td>\n",
       "      <td>4324.000000</td>\n",
       "      <td>4324.000000</td>\n",
       "    </tr>\n",
       "    <tr>\n",
       "      <th>mean</th>\n",
       "      <td>2161.500000</td>\n",
       "      <td>34.286698</td>\n",
       "      <td>1987.386679</td>\n",
       "      <td>6.754163</td>\n",
       "    </tr>\n",
       "    <tr>\n",
       "      <th>std</th>\n",
       "      <td>1248.375611</td>\n",
       "      <td>150.442829</td>\n",
       "      <td>18.072562</td>\n",
       "      <td>3.417027</td>\n",
       "    </tr>\n",
       "    <tr>\n",
       "      <th>min</th>\n",
       "      <td>0.000000</td>\n",
       "      <td>0.000000</td>\n",
       "      <td>1957.000000</td>\n",
       "      <td>1.000000</td>\n",
       "    </tr>\n",
       "    <tr>\n",
       "      <th>25%</th>\n",
       "      <td>1080.750000</td>\n",
       "      <td>0.000000</td>\n",
       "      <td>1972.000000</td>\n",
       "      <td>4.000000</td>\n",
       "    </tr>\n",
       "    <tr>\n",
       "      <th>50%</th>\n",
       "      <td>2161.500000</td>\n",
       "      <td>0.000000</td>\n",
       "      <td>1984.000000</td>\n",
       "      <td>7.000000</td>\n",
       "    </tr>\n",
       "    <tr>\n",
       "      <th>75%</th>\n",
       "      <td>3242.250000</td>\n",
       "      <td>0.000000</td>\n",
       "      <td>2002.000000</td>\n",
       "      <td>10.000000</td>\n",
       "    </tr>\n",
       "    <tr>\n",
       "      <th>max</th>\n",
       "      <td>4323.000000</td>\n",
       "      <td>5000.000000</td>\n",
       "      <td>2020.000000</td>\n",
       "      <td>12.000000</td>\n",
       "    </tr>\n",
       "  </tbody>\n",
       "</table>\n",
       "</div>"
      ],
      "text/plain": [
       "        Unnamed: 0        Price         Year        Month\n",
       "count  4324.000000  4324.000000  4324.000000  4324.000000\n",
       "mean   2161.500000    34.286698  1987.386679     6.754163\n",
       "std    1248.375611   150.442829    18.072562     3.417027\n",
       "min       0.000000     0.000000  1957.000000     1.000000\n",
       "25%    1080.750000     0.000000  1972.000000     4.000000\n",
       "50%    2161.500000     0.000000  1984.000000     7.000000\n",
       "75%    3242.250000     0.000000  2002.000000    10.000000\n",
       "max    4323.000000  5000.000000  2020.000000    12.000000"
      ]
     },
     "execution_count": 21,
     "metadata": {},
     "output_type": "execute_result"
    }
   ],
   "source": [
    "df.describe()"
   ]
  },
  {
   "cell_type": "code",
   "execution_count": 22,
   "id": "59189ea9-4c7e-4f35-b0d8-74aebd3adb3f",
   "metadata": {},
   "outputs": [
    {
     "data": {
      "text/plain": [
       "Company_Name\n",
       "RVSN USSR           1777\n",
       "Arianespace          279\n",
       "CASC                 251\n",
       "General Dynamics     251\n",
       "NASA                 203\n",
       "VKS RF               201\n",
       "US Air Force         161\n",
       "ULA                  140\n",
       "Boeing               136\n",
       "Martin Marietta      114\n",
       "SpaceX               100\n",
       "MHI                   84\n",
       "Northrop              83\n",
       "Lockheed              79\n",
       "ISRO                  76\n",
       "Roscosmos             55\n",
       "ILS                   46\n",
       "Sea Launch            36\n",
       "ISAS                  30\n",
       "Kosmotras             22\n",
       "US Navy               17\n",
       "ISA                   13\n",
       "Rocket Lab            13\n",
       "Eurockot              13\n",
       "ESA                   13\n",
       "Blue Origin           12\n",
       "IAI                   11\n",
       "ExPace                10\n",
       "ASI                    9\n",
       "CNES                   8\n",
       "AMBA                   8\n",
       "MITT                   7\n",
       "JAXA                   7\n",
       "Land Launch            7\n",
       "UT                     5\n",
       "KCST                   5\n",
       "CASIC                  5\n",
       "Exos                   4\n",
       "CECLES                 4\n",
       "Arm??e de l'Air        4\n",
       "KARI                   3\n",
       "SRC                    3\n",
       "AEB                    3\n",
       "RAE                    2\n",
       "OKB-586                2\n",
       "Yuzhmash               2\n",
       "Landspace              1\n",
       "Douglas                1\n",
       "EER                    1\n",
       "Starsem                1\n",
       "Virgin Orbit           1\n",
       "IRGC                   1\n",
       "i-Space                1\n",
       "OneSpace               1\n",
       "Sandia                 1\n",
       "Khrunichev             1\n",
       "Name: count, dtype: int64"
      ]
     },
     "execution_count": 22,
     "metadata": {},
     "output_type": "execute_result"
    }
   ],
   "source": [
    "df['Company_Name'].value_counts()"
   ]
  },
  {
   "cell_type": "code",
   "execution_count": 23,
   "id": "1f1fdc98-6b2f-4c52-ac15-98ce7df49b8f",
   "metadata": {},
   "outputs": [
    {
     "data": {
      "text/plain": [
       "Location\n",
       "Site 31/6, Baikonur Cosmodrome, Kazakhstan               235\n",
       "Site 132/1, Plesetsk Cosmodrome, Russia                  216\n",
       "Site 43/4, Plesetsk Cosmodrome, Russia                   202\n",
       "Site 41/1, Plesetsk Cosmodrome, Russia                   198\n",
       "Site 1/5, Baikonur Cosmodrome, Kazakhstan                193\n",
       "                                                        ... \n",
       "Jiuquan Satellite Launch Center, China                     1\n",
       "LP-41, Kauai, Pacific Missile Range Facility               1\n",
       "Tai Rui Barge, Yellow Sea                                  1\n",
       "Launch Plateform, Shahrud Missile Test Site                1\n",
       "K-496 Submarine, Barents Sea Launch Area, Barents Sea      1\n",
       "Name: count, Length: 137, dtype: int64"
      ]
     },
     "execution_count": 23,
     "metadata": {},
     "output_type": "execute_result"
    }
   ],
   "source": [
    "df['Location'].value_counts()"
   ]
  },
  {
   "cell_type": "code",
   "execution_count": 24,
   "id": "e1d6e1c0-ba27-4137-a904-2d06f4656f5c",
   "metadata": {},
   "outputs": [
    {
     "data": {
      "text/plain": [
       "Rocket\n",
       "Cosmos-3MRB (65MRB) | BOR-5 Shuttle    6\n",
       "Lambda-IV S | Osumi                    5\n",
       "Titan IV(402)B | DSP                   5\n",
       "Titan IIID | KH-11                     5\n",
       "Proton K/Block D | Zond                4\n",
       "                                      ..\n",
       "Ariane 44P | Intelsat 709              1\n",
       "Ariane 5 G | Cluster                   1\n",
       "Delta II 7925 | Galaxy 9               1\n",
       "Space Shuttle Endeavour | STS-77       1\n",
       "Sputnik 8K71PS | Sputnik-1             1\n",
       "Name: count, Length: 4278, dtype: int64"
      ]
     },
     "execution_count": 24,
     "metadata": {},
     "output_type": "execute_result"
    }
   ],
   "source": [
    "df['Rocket'].value_counts()"
   ]
  },
  {
   "cell_type": "code",
   "execution_count": 25,
   "id": "94e4a1c4-22ae-43ab-b944-0faa4e87c5e7",
   "metadata": {},
   "outputs": [
    {
     "data": {
      "text/plain": [
       "Status_Rocket\n",
       "StatusRetired    3534\n",
       "StatusActive      790\n",
       "Name: count, dtype: int64"
      ]
     },
     "execution_count": 25,
     "metadata": {},
     "output_type": "execute_result"
    }
   ],
   "source": [
    "df['Status_Rocket'].value_counts()"
   ]
  },
  {
   "cell_type": "code",
   "execution_count": 26,
   "id": "1c842c8e-52a6-43ab-9211-e1198366f75c",
   "metadata": {},
   "outputs": [
    {
     "data": {
      "text/plain": [
       "Status_Mission\n",
       "Success              3879\n",
       "Failure               339\n",
       "Partial Failure       102\n",
       "Prelaunch Failure       4\n",
       "Name: count, dtype: int64"
      ]
     },
     "execution_count": 26,
     "metadata": {},
     "output_type": "execute_result"
    }
   ],
   "source": [
    "df['Status_Mission'].value_counts()"
   ]
  },
  {
   "cell_type": "code",
   "execution_count": 27,
   "id": "654ab459-63e4-4f54-b58b-7e52875a0c59",
   "metadata": {},
   "outputs": [
    {
     "data": {
      "image/png": "[encoded data removed]",
      "text/plain": [
       "<Figure size 640x480 with 1 Axes>"
      ]
     },
     "metadata": {},
     "output_type": "display_data"
    }
   ],
   "source": [
    "sb.histplot(df.Price)\n",
    "plt.show()"
   ]
  },
  {
   "cell_type": "code",
   "execution_count": 28,
   "id": "d4fbb5c8-edfc-4d9e-a2b7-54fc3b99d475",
   "metadata": {},
   "outputs": [
    {
     "data": {
      "image/png": "[encoded data removed]",
      "text/plain": [
       "<Figure size 640x480 with 1 Axes>"
      ]
     },
     "metadata": {},
     "output_type": "display_data"
    }
   ],
   "source": [
    "sb.boxplot(df.Price)\n",
    "plt.xticks(rotation=90)\n",
    "plt.show()"
   ]
  },
  {
   "cell_type": "markdown",
   "id": "dbc7a8b3-8fbb-4c7f-bbbd-e9f432dd2545",
   "metadata": {},
   "source": [
    "3.Top Agencies Analysis"
   ]
  },
  {
   "cell_type": "code",
   "execution_count": 29,
   "id": "57ebd2ec-2a52-47f3-abbd-6ae29084691c",
   "metadata": {},
   "outputs": [
    {
     "data": {
      "text/plain": [
       "Company_Name\n",
       "RVSN USSR           1777\n",
       "Arianespace          279\n",
       "CASC                 251\n",
       "General Dynamics     251\n",
       "NASA                 203\n",
       "VKS RF               201\n",
       "US Air Force         161\n",
       "ULA                  140\n",
       "Boeing               136\n",
       "Martin Marietta      114\n",
       "Name: count, dtype: int64"
      ]
     },
     "execution_count": 29,
     "metadata": {},
     "output_type": "execute_result"
    }
   ],
   "source": [
    "df['Company_Name'].value_counts().nlargest(10)"
   ]
  },
  {
   "cell_type": "code",
   "execution_count": 30,
   "id": "2fbd4b27-743f-42f0-802c-cb524af11ca0",
   "metadata": {},
   "outputs": [
    {
     "data": {
      "text/plain": [
       "Company_Name\n",
       "RVSN USSR           1614\n",
       "Arianespace          269\n",
       "CASC                 231\n",
       "General Dynamics     203\n",
       "VKS RF               188\n",
       "NASA                 186\n",
       "ULA                  139\n",
       "Boeing               131\n",
       "US Air Force         129\n",
       "Martin Marietta      100\n",
       "SpaceX                94\n",
       "MHI                   80\n",
       "Lockheed              74\n",
       "Northrop              74\n",
       "ISRO                  63\n",
       "Roscosmos             51\n",
       "ILS                   45\n",
       "Sea Launch            33\n",
       "ISAS                  26\n",
       "Kosmotras             21\n",
       "dtype: int64"
      ]
     },
     "execution_count": 30,
     "metadata": {},
     "output_type": "execute_result"
    }
   ],
   "source": [
    "df[df['Status_Mission']=='Success'].groupby('Company_Name').size().nlargest(20)"
   ]
  },
  {
   "cell_type": "markdown",
   "id": "f905ae21-d97b-44f3-a04f-9db079b6cf62",
   "metadata": {},
   "source": [
    "4.Launch Site Analysis"
   ]
  },
  {
   "cell_type": "code",
   "execution_count": 31,
   "id": "89b6084a-5fcc-435d-ae8c-55b455b9a46b",
   "metadata": {},
   "outputs": [
    {
     "data": {
      "text/plain": [
       "Location\n",
       "Site 31/6, Baikonur Cosmodrome, Kazakhstan               235\n",
       "Site 132/1, Plesetsk Cosmodrome, Russia                  216\n",
       "Site 43/4, Plesetsk Cosmodrome, Russia                   202\n",
       "Site 41/1, Plesetsk Cosmodrome, Russia                   198\n",
       "Site 1/5, Baikonur Cosmodrome, Kazakhstan                193\n",
       "                                                        ... \n",
       "Jiuquan Satellite Launch Center, China                     1\n",
       "LP-41, Kauai, Pacific Missile Range Facility               1\n",
       "Tai Rui Barge, Yellow Sea                                  1\n",
       "Launch Plateform, Shahrud Missile Test Site                1\n",
       "K-496 Submarine, Barents Sea Launch Area, Barents Sea      1\n",
       "Name: count, Length: 137, dtype: int64"
      ]
     },
     "execution_count": 31,
     "metadata": {},
     "output_type": "execute_result"
    }
   ],
   "source": [
    "df['Location'].value_counts()"
   ]
  },
  {
   "cell_type": "code",
   "execution_count": 32,
   "id": "b545df22-f445-43bf-9b29-2aab3217b026",
   "metadata": {},
   "outputs": [
    {
     "data": {
      "text/plain": [
       "Location\n",
       "Site 31/6, Baikonur Cosmodrome, Kazakhstan           220\n",
       "Site 132/1, Plesetsk Cosmodrome, Russia              203\n",
       "Site 43/4, Plesetsk Cosmodrome, Russia               190\n",
       "Site 41/1, Plesetsk Cosmodrome, Russia               186\n",
       "Site 132/2, Plesetsk Cosmodrome, Russia              164\n",
       "Site 1/5, Baikonur Cosmodrome, Kazakhstan            155\n",
       "Site 133/3, Plesetsk Cosmodrome, Russia              147\n",
       "Site 43/3, Plesetsk Cosmodrome, Russia               131\n",
       "LC-39A, Kennedy Space Center, Florida, USA           117\n",
       "ELA-2, Guiana Space Centre, French Guiana, France    115\n",
       "ELA-3, Guiana Space Centre, French Guiana, France    104\n",
       "SLC-40, Cape Canaveral AFS, Florida, USA             101\n",
       "SLC-41, Cape Canaveral AFS, Florida, USA              91\n",
       "SLC-4W, Vandenberg AFB, California, USA               87\n",
       "SLC-4E, Vandenberg AFB, California, USA               78\n",
       "SLC-17A, Cape Canaveral AFS, Florida, USA             74\n",
       "LA-Y1, Tanegashima Space Center, Japan                69\n",
       "Site 90/20, Baikonur Cosmodrome, Kazakhstan           69\n",
       "SLC-36B, Cape Canaveral AFS, Florida, USA             68\n",
       "Site 86/1, Kapustin Yar, Russia                       62\n",
       "dtype: int64"
      ]
     },
     "execution_count": 32,
     "metadata": {},
     "output_type": "execute_result"
    }
   ],
   "source": [
    "df[df['Status_Mission']=='Success'].groupby('Location').size().nlargest(20)"
   ]
  },
  {
   "cell_type": "markdown",
   "id": "ebd7238a-d1db-4305-9d2a-ac78d234dfb6",
   "metadata": {},
   "source": [
    "5.Rocket and Status Analysis"
   ]
  },
  {
   "cell_type": "code",
   "execution_count": 33,
   "id": "af67eb79-cc47-4917-9c6b-d63c12b49a84",
   "metadata": {},
   "outputs": [
    {
     "data": {
      "text/plain": [
       "Rocket\n",
       "Cosmos-3MRB (65MRB) | BOR-5 Shuttle    6\n",
       "Lambda-IV S | Osumi                    5\n",
       "Titan IV(402)B | DSP                   5\n",
       "Titan IIID | KH-11                     5\n",
       "Proton K/Block D | Zond                4\n",
       "                                      ..\n",
       "Ariane 44P | Intelsat 709              1\n",
       "Ariane 5 G | Cluster                   1\n",
       "Delta II 7925 | Galaxy 9               1\n",
       "Space Shuttle Endeavour | STS-77       1\n",
       "Sputnik 8K71PS | Sputnik-1             1\n",
       "Name: count, Length: 4278, dtype: int64"
      ]
     },
     "execution_count": 33,
     "metadata": {},
     "output_type": "execute_result"
    }
   ],
   "source": [
    "df['Rocket'].value_counts()"
   ]
  },
  {
   "cell_type": "code",
   "execution_count": 34,
   "id": "b2400a85-7e13-4e37-81e8-2eb8653b0637",
   "metadata": {},
   "outputs": [
    {
     "data": {
      "image/png": "[encoded data removed]",
      "text/plain": [
       "<Figure size 640x480 with 1 Axes>"
      ]
     },
     "metadata": {},
     "output_type": "display_data"
    }
   ],
   "source": [
    "a = df.nlargest(10,'Price')\n",
    "sb.countplot(x=a.Rocket)\n",
    "plt.xticks(rotation=90)\n",
    "plt.show()"
   ]
  },
  {
   "cell_type": "code",
   "execution_count": 35,
   "id": "10e9b790-9b3e-424a-b152-feff721a29f7",
   "metadata": {},
   "outputs": [
    {
     "data": {
      "text/plain": [
       "Status_Rocket\n",
       "StatusRetired    3534\n",
       "StatusActive      790\n",
       "Name: count, dtype: int64"
      ]
     },
     "execution_count": 35,
     "metadata": {},
     "output_type": "execute_result"
    }
   ],
   "source": [
    "df['Status_Rocket'].value_counts()"
   ]
  },
  {
   "cell_type": "code",
   "execution_count": 36,
   "id": "cd7e3259-7854-4f3c-bd05-f5e3c4dee298",
   "metadata": {},
   "outputs": [
    {
     "data": {
      "image/png": "[encoded data removed]",
      "text/plain": [
       "<Figure size 640x480 with 1 Axes>"
      ]
     },
     "metadata": {},
     "output_type": "display_data"
    }
   ],
   "source": [
    "sb.barplot(x=df.Status_Rocket, y=df.Year)\n",
    "plt.xticks(rotation=90)\n",
    "plt.show()"
   ]
  },
  {
   "cell_type": "markdown",
   "id": "803c6d23-b75f-4874-a5f1-2d8591b1d462",
   "metadata": {},
   "source": [
    "6.Cost Analysis"
   ]
  },
  {
   "cell_type": "code",
   "execution_count": 37,
   "id": "ef0818fe-0380-4d53-91b7-f06e804031b3",
   "metadata": {},
   "outputs": [
    {
     "data": {
      "text/html": [
       "<div>\n",
       "<style scoped>\n",
       "    .dataframe tbody tr th:only-of-type {\n",
       "        vertical-align: middle;\n",
       "    }\n",
       "\n",
       "    .dataframe tbody tr th {\n",
       "        vertical-align: top;\n",
       "    }\n",
       "\n",
       "    .dataframe thead th {\n",
       "        text-align: right;\n",
       "    }\n",
       "</style>\n",
       "<table border=\"1\" class=\"dataframe\">\n",
       "  <thead>\n",
       "    <tr style=\"text-align: right;\">\n",
       "      <th></th>\n",
       "      <th>Price</th>\n",
       "    </tr>\n",
       "    <tr>\n",
       "      <th>Company_Name</th>\n",
       "      <th></th>\n",
       "    </tr>\n",
       "  </thead>\n",
       "  <tbody>\n",
       "    <tr>\n",
       "      <th>AEB</th>\n",
       "      <td>0.000000</td>\n",
       "    </tr>\n",
       "    <tr>\n",
       "      <th>AMBA</th>\n",
       "      <td>0.000000</td>\n",
       "    </tr>\n",
       "    <tr>\n",
       "      <th>ASI</th>\n",
       "      <td>0.000000</td>\n",
       "    </tr>\n",
       "    <tr>\n",
       "      <th>Arianespace</th>\n",
       "      <td>58.584229</td>\n",
       "    </tr>\n",
       "    <tr>\n",
       "      <th>Arm??e de l'Air</th>\n",
       "      <td>0.000000</td>\n",
       "    </tr>\n",
       "    <tr>\n",
       "      <th>Blue Origin</th>\n",
       "      <td>0.000000</td>\n",
       "    </tr>\n",
       "    <tr>\n",
       "      <th>Boeing</th>\n",
       "      <td>9.125000</td>\n",
       "    </tr>\n",
       "    <tr>\n",
       "      <th>CASC</th>\n",
       "      <td>25.260000</td>\n",
       "    </tr>\n",
       "    <tr>\n",
       "      <th>CASIC</th>\n",
       "      <td>0.000000</td>\n",
       "    </tr>\n",
       "    <tr>\n",
       "      <th>CECLES</th>\n",
       "      <td>0.000000</td>\n",
       "    </tr>\n",
       "    <tr>\n",
       "      <th>CNES</th>\n",
       "      <td>0.000000</td>\n",
       "    </tr>\n",
       "    <tr>\n",
       "      <th>Douglas</th>\n",
       "      <td>0.000000</td>\n",
       "    </tr>\n",
       "    <tr>\n",
       "      <th>EER</th>\n",
       "      <td>20.000000</td>\n",
       "    </tr>\n",
       "    <tr>\n",
       "      <th>ESA</th>\n",
       "      <td>2.846154</td>\n",
       "    </tr>\n",
       "    <tr>\n",
       "      <th>Eurockot</th>\n",
       "      <td>41.800000</td>\n",
       "    </tr>\n",
       "    <tr>\n",
       "      <th>ExPace</th>\n",
       "      <td>2.830000</td>\n",
       "    </tr>\n",
       "    <tr>\n",
       "      <th>Exos</th>\n",
       "      <td>0.000000</td>\n",
       "    </tr>\n",
       "    <tr>\n",
       "      <th>General Dynamics</th>\n",
       "      <td>0.000000</td>\n",
       "    </tr>\n",
       "    <tr>\n",
       "      <th>IAI</th>\n",
       "      <td>0.000000</td>\n",
       "    </tr>\n",
       "    <tr>\n",
       "      <th>ILS</th>\n",
       "      <td>28.695652</td>\n",
       "    </tr>\n",
       "    <tr>\n",
       "      <th>IRGC</th>\n",
       "      <td>0.000000</td>\n",
       "    </tr>\n",
       "    <tr>\n",
       "      <th>ISA</th>\n",
       "      <td>0.000000</td>\n",
       "    </tr>\n",
       "    <tr>\n",
       "      <th>ISAS</th>\n",
       "      <td>0.000000</td>\n",
       "    </tr>\n",
       "    <tr>\n",
       "      <th>ISRO</th>\n",
       "      <td>28.644737</td>\n",
       "    </tr>\n",
       "    <tr>\n",
       "      <th>JAXA</th>\n",
       "      <td>24.000000</td>\n",
       "    </tr>\n",
       "    <tr>\n",
       "      <th>KARI</th>\n",
       "      <td>0.000000</td>\n",
       "    </tr>\n",
       "    <tr>\n",
       "      <th>KCST</th>\n",
       "      <td>0.000000</td>\n",
       "    </tr>\n",
       "    <tr>\n",
       "      <th>Khrunichev</th>\n",
       "      <td>0.000000</td>\n",
       "    </tr>\n",
       "    <tr>\n",
       "      <th>Kosmotras</th>\n",
       "      <td>29.000000</td>\n",
       "    </tr>\n",
       "    <tr>\n",
       "      <th>Land Launch</th>\n",
       "      <td>0.000000</td>\n",
       "    </tr>\n",
       "    <tr>\n",
       "      <th>Landspace</th>\n",
       "      <td>0.000000</td>\n",
       "    </tr>\n",
       "    <tr>\n",
       "      <th>Lockheed</th>\n",
       "      <td>3.544304</td>\n",
       "    </tr>\n",
       "    <tr>\n",
       "      <th>MHI</th>\n",
       "      <td>42.053571</td>\n",
       "    </tr>\n",
       "    <tr>\n",
       "      <th>MITT</th>\n",
       "      <td>0.000000</td>\n",
       "    </tr>\n",
       "    <tr>\n",
       "      <th>Martin Marietta</th>\n",
       "      <td>6.328070</td>\n",
       "    </tr>\n",
       "    <tr>\n",
       "      <th>NASA</th>\n",
       "      <td>375.763547</td>\n",
       "    </tr>\n",
       "    <tr>\n",
       "      <th>Northrop</th>\n",
       "      <td>47.349398</td>\n",
       "    </tr>\n",
       "    <tr>\n",
       "      <th>OKB-586</th>\n",
       "      <td>0.000000</td>\n",
       "    </tr>\n",
       "    <tr>\n",
       "      <th>OneSpace</th>\n",
       "      <td>0.000000</td>\n",
       "    </tr>\n",
       "    <tr>\n",
       "      <th>RAE</th>\n",
       "      <td>0.000000</td>\n",
       "    </tr>\n",
       "    <tr>\n",
       "      <th>RVSN USSR</th>\n",
       "      <td>5.627462</td>\n",
       "    </tr>\n",
       "    <tr>\n",
       "      <th>Rocket Lab</th>\n",
       "      <td>7.500000</td>\n",
       "    </tr>\n",
       "    <tr>\n",
       "      <th>Roscosmos</th>\n",
       "      <td>21.590909</td>\n",
       "    </tr>\n",
       "    <tr>\n",
       "      <th>SRC</th>\n",
       "      <td>0.000000</td>\n",
       "    </tr>\n",
       "    <tr>\n",
       "      <th>Sandia</th>\n",
       "      <td>15.000000</td>\n",
       "    </tr>\n",
       "    <tr>\n",
       "      <th>Sea Launch</th>\n",
       "      <td>0.000000</td>\n",
       "    </tr>\n",
       "    <tr>\n",
       "      <th>SpaceX</th>\n",
       "      <td>54.440000</td>\n",
       "    </tr>\n",
       "    <tr>\n",
       "      <th>Starsem</th>\n",
       "      <td>0.000000</td>\n",
       "    </tr>\n",
       "    <tr>\n",
       "      <th>ULA</th>\n",
       "      <td>105.700000</td>\n",
       "    </tr>\n",
       "    <tr>\n",
       "      <th>US Air Force</th>\n",
       "      <td>9.633043</td>\n",
       "    </tr>\n",
       "    <tr>\n",
       "      <th>US Navy</th>\n",
       "      <td>0.000000</td>\n",
       "    </tr>\n",
       "    <tr>\n",
       "      <th>UT</th>\n",
       "      <td>0.000000</td>\n",
       "    </tr>\n",
       "    <tr>\n",
       "      <th>VKS RF</th>\n",
       "      <td>7.705970</td>\n",
       "    </tr>\n",
       "    <tr>\n",
       "      <th>Virgin Orbit</th>\n",
       "      <td>12.000000</td>\n",
       "    </tr>\n",
       "    <tr>\n",
       "      <th>Yuzhmash</th>\n",
       "      <td>0.000000</td>\n",
       "    </tr>\n",
       "    <tr>\n",
       "      <th>i-Space</th>\n",
       "      <td>0.000000</td>\n",
       "    </tr>\n",
       "  </tbody>\n",
       "</table>\n",
       "</div>"
      ],
      "text/plain": [
       "                       Price\n",
       "Company_Name                \n",
       "AEB                 0.000000\n",
       "AMBA                0.000000\n",
       "ASI                 0.000000\n",
       "Arianespace        58.584229\n",
       "Arm??e de l'Air     0.000000\n",
       "Blue Origin         0.000000\n",
       "Boeing              9.125000\n",
       "CASC               25.260000\n",
       "CASIC               0.000000\n",
       "CECLES              0.000000\n",
       "CNES                0.000000\n",
       "Douglas             0.000000\n",
       "EER                20.000000\n",
       "ESA                 2.846154\n",
       "Eurockot           41.800000\n",
       "ExPace              2.830000\n",
       "Exos                0.000000\n",
       "General Dynamics    0.000000\n",
       "IAI                 0.000000\n",
       "ILS                28.695652\n",
       "IRGC                0.000000\n",
       "ISA                 0.000000\n",
       "ISAS                0.000000\n",
       "ISRO               28.644737\n",
       "JAXA               24.000000\n",
       "KARI                0.000000\n",
       "KCST                0.000000\n",
       "Khrunichev          0.000000\n",
       "Kosmotras          29.000000\n",
       "Land Launch         0.000000\n",
       "Landspace           0.000000\n",
       "Lockheed            3.544304\n",
       "MHI                42.053571\n",
       "MITT                0.000000\n",
       "Martin Marietta     6.328070\n",
       "NASA              375.763547\n",
       "Northrop           47.349398\n",
       "OKB-586             0.000000\n",
       "OneSpace            0.000000\n",
       "RAE                 0.000000\n",
       "RVSN USSR           5.627462\n",
       "Rocket Lab          7.500000\n",
       "Roscosmos          21.590909\n",
       "SRC                 0.000000\n",
       "Sandia             15.000000\n",
       "Sea Launch          0.000000\n",
       "SpaceX             54.440000\n",
       "Starsem             0.000000\n",
       "ULA               105.700000\n",
       "US Air Force        9.633043\n",
       "US Navy             0.000000\n",
       "UT                  0.000000\n",
       "VKS RF              7.705970\n",
       "Virgin Orbit       12.000000\n",
       "Yuzhmash            0.000000\n",
       "i-Space             0.000000"
      ]
     },
     "execution_count": 37,
     "metadata": {},
     "output_type": "execute_result"
    }
   ],
   "source": [
    "df[['Company_Name','Price']].groupby('Company_Name').mean()"
   ]
  },
  {
   "cell_type": "code",
   "execution_count": 38,
   "id": "02c8d771-0d24-4ee3-84b4-660113735e25",
   "metadata": {},
   "outputs": [
    {
     "data": {
      "text/plain": [
       "Rocket\n",
       "ASLV | SROSS C2                    0.0\n",
       "Angara 1.2 | Demo Flight           0.0\n",
       "Angara A5/Briz-M | Demo Flight     0.0\n",
       "Antares 110 | Antares A-ONE       80.0\n",
       "Antares 110 | CRS Orb-D1          80.0\n",
       "                                  ... \n",
       "Zenit-3 SLB | Telstar-11N          0.0\n",
       "Zenit-3 SLBF | AngoSat-1           0.0\n",
       "Zenit-3 SLBF | Elektro-L n†­1      0.0\n",
       "Zenit-3 SLBF | Elektro-L n†­2      0.0\n",
       "Zenit-3 SLBF | Spektr-R            0.0\n",
       "Name: Price, Length: 3846, dtype: float64"
      ]
     },
     "execution_count": 38,
     "metadata": {},
     "output_type": "execute_result"
    }
   ],
   "source": [
    "df[df['Status_Mission'] == 'Success'].groupby('Rocket')['Price'].mean()"
   ]
  },
  {
   "cell_type": "markdown",
   "id": "c847500f-8598-4925-9d87-35486d8e603e",
   "metadata": {},
   "source": [
    "7.Temporal Analysis"
   ]
  },
  {
   "cell_type": "code",
   "execution_count": 39,
   "id": "be73ea84-80f5-48e0-993b-461a59c9a2c3",
   "metadata": {},
   "outputs": [
    {
     "data": {
      "text/plain": [
       "Year\n",
       "1957      3\n",
       "1958     28\n",
       "1959     20\n",
       "1960     39\n",
       "1961     52\n",
       "       ... \n",
       "2016     90\n",
       "2017     92\n",
       "2018    117\n",
       "2019    109\n",
       "2020     63\n",
       "Name: count, Length: 64, dtype: int64"
      ]
     },
     "execution_count": 39,
     "metadata": {},
     "output_type": "execute_result"
    }
   ],
   "source": [
    "df['Year'].value_counts().sort_index()"
   ]
  },
  {
   "cell_type": "code",
   "execution_count": 40,
   "id": "6b9875f0-94ee-408e-804c-3e55e78a4538",
   "metadata": {},
   "outputs": [
    {
     "data": {
      "image/png": "[encoded data removed]",
      "text/plain": [
       "<Figure size 640x480 with 1 Axes>"
      ]
     },
     "metadata": {},
     "output_type": "display_data"
    }
   ],
   "source": [
    "sb.lineplot(x=df.Year,y=df.Status_Mission)\n",
    "plt.show()"
   ]
  },
  {
   "cell_type": "code",
   "execution_count": 41,
   "id": "1f5ee25a-96aa-479b-b2b0-9bdf712daf98",
   "metadata": {},
   "outputs": [
    {
     "data": {
      "text/plain": [
       "Year\n",
       "1957      3\n",
       "1958     28\n",
       "1959     20\n",
       "1960     39\n",
       "1961     52\n",
       "       ... \n",
       "2016     90\n",
       "2017     92\n",
       "2018    117\n",
       "2019    109\n",
       "2020     63\n",
       "Name: Status_Mission, Length: 64, dtype: int64"
      ]
     },
     "execution_count": 41,
     "metadata": {},
     "output_type": "execute_result"
    }
   ],
   "source": [
    "df.groupby('Year')['Status_Mission'].size()"
   ]
  },
  {
   "cell_type": "code",
   "execution_count": 42,
   "id": "20911a6e-b9d7-42b4-b6aa-e13167002e2b",
   "metadata": {},
   "outputs": [
    {
     "data": {
      "image/png": "[encoded data removed]",
      "text/plain": [
       "<Figure size 640x480 with 1 Axes>"
      ]
     },
     "metadata": {},
     "output_type": "display_data"
    }
   ],
   "source": [
    "sb.barplot(x=df.Status_Mission, y=df.Year)\n",
    "plt.xticks(rotation=90)\n",
    "plt.show()"
   ]
  },
  {
   "cell_type": "code",
   "execution_count": null,
   "id": "a73aa90e-5df9-4502-8673-852c55f27fe2",
   "metadata": {},
   "outputs": [],
   "source": []
  }
 ],
 "metadata": {
  "kernelspec": {
   "display_name": "Python 3 (ipykernel)",
   "language": "python",
   "name": "python3"
  },
  "language_info": {
   "codemirror_mode": {
    "name": "ipython",
    "version": 3
   },
   "file_extension": ".py",
   "mimetype": "text/x-python",
   "name": "python",
   "nbconvert_exporter": "python",
   "pygments_lexer": "ipython3",
   "version": "3.12.7"
  }
 },
 "nbformat": 4,
 "nbformat_minor": 5
}
